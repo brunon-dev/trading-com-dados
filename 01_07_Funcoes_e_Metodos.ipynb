{
  "nbformat": 4,
  "nbformat_minor": 0,
  "metadata": {
    "colab": {
      "name": "01.07-Funcoes_e_Metodos.ipynb",
      "provenance": [],
      "authorship_tag": "ABX9TyM/W2kCz2+Zu+K40h+egHeK",
      "include_colab_link": true
    },
    "kernelspec": {
      "name": "python3",
      "display_name": "Python 3"
    },
    "language_info": {
      "name": "python"
    }
  },
  "cells": [
    {
      "cell_type": "markdown",
      "metadata": {
        "id": "view-in-github",
        "colab_type": "text"
      },
      "source": [
        "<a href=\"https://colab.research.google.com/github/brunonbn/trading-com-dados/blob/main/01_07_Funcoes_e_Metodos.ipynb\" target=\"_parent\"><img src=\"https://colab.research.google.com/assets/colab-badge.svg\" alt=\"Open In Colab\"/></a>"
      ]
    },
    {
      "cell_type": "markdown",
      "source": [
        "## Funções e Métodos"
      ],
      "metadata": {
        "id": "ddTUCEyM2kvu"
      }
    },
    {
      "cell_type": "code",
      "source": [
        "def fala_nome():\n",
        "  print(\"Meu nome é Bruno\")"
      ],
      "metadata": {
        "id": "UV8LuLgI2VEh"
      },
      "execution_count": 1,
      "outputs": []
    },
    {
      "cell_type": "code",
      "source": [
        "fala_nome()"
      ],
      "metadata": {
        "colab": {
          "base_uri": "https://localhost:8080/"
        },
        "id": "p7PCclFx4ybJ",
        "outputId": "8bba54da-cb73-451c-86b3-1a7c489f3ba6"
      },
      "execution_count": 2,
      "outputs": [
        {
          "output_type": "stream",
          "name": "stdout",
          "text": [
            "Meu nome é Bruno\n"
          ]
        }
      ]
    },
    {
      "cell_type": "code",
      "source": [
        "def soma_numeros(num1, num2):\n",
        "  soma = num1 + num2\n",
        "  return soma"
      ],
      "metadata": {
        "id": "zb43yU3f4zel"
      },
      "execution_count": 3,
      "outputs": []
    },
    {
      "cell_type": "code",
      "source": [
        "novo_objeto = soma_numeros(5, 6)"
      ],
      "metadata": {
        "id": "Uxu6CdmE7ccQ"
      },
      "execution_count": 4,
      "outputs": []
    },
    {
      "cell_type": "code",
      "source": [
        "novo_objeto"
      ],
      "metadata": {
        "colab": {
          "base_uri": "https://localhost:8080/"
        },
        "id": "n3XpHILx7fpJ",
        "outputId": "a36ecea8-5e3e-4a48-caa7-24cff94a5a88"
      },
      "execution_count": 5,
      "outputs": [
        {
          "output_type": "execute_result",
          "data": {
            "text/plain": [
              "11"
            ]
          },
          "metadata": {},
          "execution_count": 5
        }
      ]
    },
    {
      "cell_type": "markdown",
      "source": [
        "### Criando Docstring da função"
      ],
      "metadata": {
        "id": "D8TbqFfn_LIt"
      }
    },
    {
      "cell_type": "code",
      "source": [
        "def preco(acao):\n",
        "  ''' ESSA FUNÇÃO DEVE SER UTILIZADA PARA RETORNAR A COTAÇÃO EM TEMPO REAL DE UM PAPEL '''\n",
        "  \n",
        "  if (acao == 'PETR4'):\n",
        "    print('O preço agora é R$ 30,89')\n",
        "  elif (acao == 'VALE3'):\n",
        "    print('O preço agora é R$ 112')\n",
        "  elif (acao == 'WEGE3'):\n",
        "    print('O preço agora é R$ 32')\n",
        "  elif (acao == 'MGLU3'):\n",
        "    print('O preço agora é R$ 24,59')\n",
        "  else:\n",
        "    print('Papel desconhecido')"
      ],
      "metadata": {
        "id": "tSmraPjb8oXV"
      },
      "execution_count": 6,
      "outputs": []
    },
    {
      "cell_type": "code",
      "source": [
        "preco('VIVR3')"
      ],
      "metadata": {
        "colab": {
          "base_uri": "https://localhost:8080/"
        },
        "id": "orpN_9Ho9j5h",
        "outputId": "7f1d149d-8875-4fd4-e0db-0303dfe9af13"
      },
      "execution_count": 7,
      "outputs": [
        {
          "output_type": "stream",
          "name": "stdout",
          "text": [
            "Papel desconhecido\n"
          ]
        }
      ]
    },
    {
      "cell_type": "code",
      "source": [
        "preco('VALE3')"
      ],
      "metadata": {
        "colab": {
          "base_uri": "https://localhost:8080/"
        },
        "id": "Y4qQwC7D9mIx",
        "outputId": "25912106-e881-497d-8211-d317121a05b5"
      },
      "execution_count": 8,
      "outputs": [
        {
          "output_type": "stream",
          "name": "stdout",
          "text": [
            "O preço agora é R$ 112\n"
          ]
        }
      ]
    },
    {
      "cell_type": "markdown",
      "source": [
        "#### Métodos"
      ],
      "metadata": {
        "id": "grjDEaes9the"
      }
    },
    {
      "cell_type": "code",
      "source": [
        "numeros = [1, 2, 4, 6, 10]"
      ],
      "metadata": {
        "id": "MPhOPyMiAPDy"
      },
      "execution_count": 9,
      "outputs": []
    },
    {
      "cell_type": "markdown",
      "source": [
        "O “append” ou o “clear” são funções exclusivas associadas ao objeto Lista, por isso chamamos de métodos."
      ],
      "metadata": {
        "id": "OZ3I6sE9Ab2z"
      }
    },
    {
      "cell_type": "code",
      "source": [
        "numeros.append(5)"
      ],
      "metadata": {
        "id": "qIG-VGCjAVES"
      },
      "execution_count": 10,
      "outputs": []
    },
    {
      "cell_type": "code",
      "source": [
        "numeros"
      ],
      "metadata": {
        "colab": {
          "base_uri": "https://localhost:8080/"
        },
        "id": "9vh_-b2aAXoP",
        "outputId": "dacea201-7a71-4c09-a9ed-5a078bbe1f2b"
      },
      "execution_count": 11,
      "outputs": [
        {
          "output_type": "execute_result",
          "data": {
            "text/plain": [
              "[1, 2, 4, 6, 10, 5]"
            ]
          },
          "metadata": {},
          "execution_count": 11
        }
      ]
    },
    {
      "cell_type": "code",
      "source": [
        "# para saber os atributos e métodos disponíveis em um objeto usar o comando dir\n",
        "dir(numeros)"
      ],
      "metadata": {
        "colab": {
          "base_uri": "https://localhost:8080/"
        },
        "id": "CriuCiH2AYWk",
        "outputId": "3ac6198b-2b41-450b-fe08-24b0a3bc9b43"
      },
      "execution_count": 12,
      "outputs": [
        {
          "output_type": "execute_result",
          "data": {
            "text/plain": [
              "['__add__',\n",
              " '__class__',\n",
              " '__contains__',\n",
              " '__delattr__',\n",
              " '__delitem__',\n",
              " '__dir__',\n",
              " '__doc__',\n",
              " '__eq__',\n",
              " '__format__',\n",
              " '__ge__',\n",
              " '__getattribute__',\n",
              " '__getitem__',\n",
              " '__gt__',\n",
              " '__hash__',\n",
              " '__iadd__',\n",
              " '__imul__',\n",
              " '__init__',\n",
              " '__init_subclass__',\n",
              " '__iter__',\n",
              " '__le__',\n",
              " '__len__',\n",
              " '__lt__',\n",
              " '__mul__',\n",
              " '__ne__',\n",
              " '__new__',\n",
              " '__reduce__',\n",
              " '__reduce_ex__',\n",
              " '__repr__',\n",
              " '__reversed__',\n",
              " '__rmul__',\n",
              " '__setattr__',\n",
              " '__setitem__',\n",
              " '__sizeof__',\n",
              " '__str__',\n",
              " '__subclasshook__',\n",
              " 'append',\n",
              " 'clear',\n",
              " 'copy',\n",
              " 'count',\n",
              " 'extend',\n",
              " 'index',\n",
              " 'insert',\n",
              " 'pop',\n",
              " 'remove',\n",
              " 'reverse',\n",
              " 'sort']"
            ]
          },
          "metadata": {},
          "execution_count": 12
        }
      ]
    },
    {
      "cell_type": "markdown",
      "source": [
        "#### Funções embutidas"
      ],
      "metadata": {
        "id": "yEsZiXG6BDdh"
      }
    },
    {
      "cell_type": "markdown",
      "source": [
        "##### Map"
      ],
      "metadata": {
        "id": "ubciO4pGCECr"
      }
    },
    {
      "cell_type": "code",
      "source": [
        "def potencia(num, pot = 2):\n",
        "  return num**pot"
      ],
      "metadata": {
        "id": "9KE8niImCcGN"
      },
      "execution_count": 13,
      "outputs": []
    },
    {
      "cell_type": "code",
      "source": [
        "potencia(3)"
      ],
      "metadata": {
        "colab": {
          "base_uri": "https://localhost:8080/"
        },
        "id": "93V2WhnFClWH",
        "outputId": "cab6010f-c9ec-42b5-ac2f-26422b4c90d5"
      },
      "execution_count": 14,
      "outputs": [
        {
          "output_type": "execute_result",
          "data": {
            "text/plain": [
              "9"
            ]
          },
          "metadata": {},
          "execution_count": 14
        }
      ]
    },
    {
      "cell_type": "code",
      "source": [
        "potencia(3, 4)"
      ],
      "metadata": {
        "colab": {
          "base_uri": "https://localhost:8080/"
        },
        "id": "SatRf5AVCzHA",
        "outputId": "a93e98a5-0352-4f3a-b2fd-4475664d1478"
      },
      "execution_count": 15,
      "outputs": [
        {
          "output_type": "execute_result",
          "data": {
            "text/plain": [
              "81"
            ]
          },
          "metadata": {},
          "execution_count": 15
        }
      ]
    },
    {
      "cell_type": "code",
      "source": [
        "lista_numeros = [1, 2, 3, 4, 5]"
      ],
      "metadata": {
        "id": "tsctCP6UC1xj"
      },
      "execution_count": 16,
      "outputs": []
    },
    {
      "cell_type": "code",
      "source": [
        "map(potencia, lista_numeros)"
      ],
      "metadata": {
        "colab": {
          "base_uri": "https://localhost:8080/"
        },
        "id": "c5G2lPUBDBRd",
        "outputId": "97713ebe-0e83-4c50-b67d-23024d5bdda4"
      },
      "execution_count": 17,
      "outputs": [
        {
          "output_type": "execute_result",
          "data": {
            "text/plain": [
              "<map at 0x7f7ed9e35510>"
            ]
          },
          "metadata": {},
          "execution_count": 17
        }
      ]
    },
    {
      "cell_type": "code",
      "source": [
        "# só é possível exibir o resultado se colocar dentro de uma lista\n",
        "list(map(potencia, lista_numeros))"
      ],
      "metadata": {
        "colab": {
          "base_uri": "https://localhost:8080/"
        },
        "id": "lKWJCKIZDE_w",
        "outputId": "4c2fa920-7442-44a3-d540-c9e3cef59fb9"
      },
      "execution_count": 18,
      "outputs": [
        {
          "output_type": "execute_result",
          "data": {
            "text/plain": [
              "[1, 4, 9, 16, 25]"
            ]
          },
          "metadata": {},
          "execution_count": 18
        }
      ]
    },
    {
      "cell_type": "markdown",
      "source": [
        "##### Filter"
      ],
      "metadata": {
        "id": "FtyXI8OKDS5I"
      }
    },
    {
      "cell_type": "code",
      "source": [
        "def checar_par(num):\n",
        "  return num%2 == 0"
      ],
      "metadata": {
        "id": "xGRxeJm1EjhO"
      },
      "execution_count": 19,
      "outputs": []
    },
    {
      "cell_type": "code",
      "source": [
        "checar_par(3)"
      ],
      "metadata": {
        "colab": {
          "base_uri": "https://localhost:8080/"
        },
        "id": "Zg5Vd_tuEvcV",
        "outputId": "12ce7907-8f5e-4e4d-87cd-cb1106690071"
      },
      "execution_count": 20,
      "outputs": [
        {
          "output_type": "execute_result",
          "data": {
            "text/plain": [
              "False"
            ]
          },
          "metadata": {},
          "execution_count": 20
        }
      ]
    },
    {
      "cell_type": "code",
      "source": [
        "list(filter(checar_par, lista_numeros))"
      ],
      "metadata": {
        "colab": {
          "base_uri": "https://localhost:8080/"
        },
        "id": "AJ-jFlouEx0e",
        "outputId": "bb130725-0f55-4148-cb3b-ddadb928ff63"
      },
      "execution_count": 21,
      "outputs": [
        {
          "output_type": "execute_result",
          "data": {
            "text/plain": [
              "[2, 4]"
            ]
          },
          "metadata": {},
          "execution_count": 21
        }
      ]
    },
    {
      "cell_type": "markdown",
      "source": [
        "##### Funções Anônimas: Lambda"
      ],
      "metadata": {
        "id": "xjchV161FMWy"
      }
    },
    {
      "cell_type": "code",
      "source": [
        "def quadrado(num):\n",
        "  return num**2"
      ],
      "metadata": {
        "id": "YHQiL8FvCe3p"
      },
      "execution_count": 22,
      "outputs": []
    },
    {
      "cell_type": "code",
      "source": [
        "quadrado(5)"
      ],
      "metadata": {
        "id": "zlZvDgwmC_fl",
        "outputId": "cd9fb588-3639-4d91-9add-50d4c9114bbf",
        "colab": {
          "base_uri": "https://localhost:8080/"
        }
      },
      "execution_count": 23,
      "outputs": [
        {
          "output_type": "execute_result",
          "data": {
            "text/plain": [
              "25"
            ]
          },
          "metadata": {},
          "execution_count": 23
        }
      ]
    },
    {
      "cell_type": "code",
      "source": [
        "lambda num: num**2"
      ],
      "metadata": {
        "id": "WubAaIVaDBO-",
        "outputId": "6d98a6b1-5b3e-4701-e326-ad1fe20aea79",
        "colab": {
          "base_uri": "https://localhost:8080/"
        }
      },
      "execution_count": 24,
      "outputs": [
        {
          "output_type": "execute_result",
          "data": {
            "text/plain": [
              "<function __main__.<lambda>>"
            ]
          },
          "metadata": {},
          "execution_count": 24
        }
      ]
    },
    {
      "cell_type": "code",
      "source": [
        "quadrado_lambda = lambda num: num**2"
      ],
      "metadata": {
        "id": "3Pww6L4oDIuy"
      },
      "execution_count": 25,
      "outputs": []
    },
    {
      "cell_type": "code",
      "source": [
        "quadrado_lambda(5)"
      ],
      "metadata": {
        "id": "CTMd20LODlL_",
        "outputId": "bacf4173-6ed6-4bfe-c9b9-176b722e8a58",
        "colab": {
          "base_uri": "https://localhost:8080/"
        }
      },
      "execution_count": 26,
      "outputs": [
        {
          "output_type": "execute_result",
          "data": {
            "text/plain": [
              "25"
            ]
          },
          "metadata": {},
          "execution_count": 26
        }
      ]
    },
    {
      "cell_type": "code",
      "source": [
        "list(map(lambda num: num**2, lista_numeros))"
      ],
      "metadata": {
        "id": "hjaeHQGWDnoU",
        "outputId": "59094675-5230-4097-e470-2e17c8d84773",
        "colab": {
          "base_uri": "https://localhost:8080/"
        }
      },
      "execution_count": 27,
      "outputs": [
        {
          "output_type": "execute_result",
          "data": {
            "text/plain": [
              "[1, 4, 9, 16, 25]"
            ]
          },
          "metadata": {},
          "execution_count": 27
        }
      ]
    },
    {
      "cell_type": "code",
      "source": [
        "list(filter(lambda num: num%2==0, lista_numeros))"
      ],
      "metadata": {
        "id": "IH5RQ-9jEgtT",
        "outputId": "998b0e0f-5ac2-4890-a2a2-18d1b89205e3",
        "colab": {
          "base_uri": "https://localhost:8080/"
        }
      },
      "execution_count": 28,
      "outputs": [
        {
          "output_type": "execute_result",
          "data": {
            "text/plain": [
              "[2, 4]"
            ]
          },
          "metadata": {},
          "execution_count": 28
        }
      ]
    },
    {
      "cell_type": "markdown",
      "source": [
        "##### Args"
      ],
      "metadata": {
        "id": "LHidf6L9FEej"
      }
    },
    {
      "cell_type": "code",
      "source": [
        "# para somar 3 números\n",
        "def soma_varios(a,b,c):\n",
        "  soma = sum((a,b,c))\n",
        "  return soma"
      ],
      "metadata": {
        "id": "qXF-bsZ6GY4L"
      },
      "execution_count": 29,
      "outputs": []
    },
    {
      "cell_type": "code",
      "source": [
        "soma_varios(1,2,3)"
      ],
      "metadata": {
        "id": "JiBHd--QGgsK",
        "outputId": "d7895df3-4445-4b81-a590-6a3b9bfd0a26",
        "colab": {
          "base_uri": "https://localhost:8080/"
        }
      },
      "execution_count": 30,
      "outputs": [
        {
          "output_type": "execute_result",
          "data": {
            "text/plain": [
              "6"
            ]
          },
          "metadata": {},
          "execution_count": 30
        }
      ]
    },
    {
      "cell_type": "code",
      "source": [
        "# para somar 5 números\n",
        "def soma_varios(a,b,c,d,e):\n",
        "  soma = sum((a,b,c,d,e))\n",
        "  return soma"
      ],
      "metadata": {
        "id": "EqflMQyhGizg"
      },
      "execution_count": 31,
      "outputs": []
    },
    {
      "cell_type": "code",
      "source": [
        "soma_varios(1,2,3,4,5)"
      ],
      "metadata": {
        "id": "_5p9RKmoGwfw",
        "outputId": "82b3e4f1-ce32-4b4e-b3fc-28c8a6836aea",
        "colab": {
          "base_uri": "https://localhost:8080/"
        }
      },
      "execution_count": 32,
      "outputs": [
        {
          "output_type": "execute_result",
          "data": {
            "text/plain": [
              "15"
            ]
          },
          "metadata": {},
          "execution_count": 32
        }
      ]
    },
    {
      "cell_type": "code",
      "source": [
        "def soma_varios(*args):\n",
        "  soma = sum(args)\n",
        "  return soma"
      ],
      "metadata": {
        "id": "w6k_oca0GymD"
      },
      "execution_count": 33,
      "outputs": []
    },
    {
      "cell_type": "code",
      "source": [
        "soma_varios(1)"
      ],
      "metadata": {
        "id": "geEdavEFI_Tz",
        "outputId": "3c4065c1-ae60-4252-ac0b-38f7af073217",
        "colab": {
          "base_uri": "https://localhost:8080/"
        }
      },
      "execution_count": 34,
      "outputs": [
        {
          "output_type": "execute_result",
          "data": {
            "text/plain": [
              "1"
            ]
          },
          "metadata": {},
          "execution_count": 34
        }
      ]
    },
    {
      "cell_type": "code",
      "source": [
        "soma_varios(1,2,3,4,5,6,7,8)"
      ],
      "metadata": {
        "id": "-iZ2btyXJA6u",
        "outputId": "2c390725-a81c-40f3-8855-67bd08bc00c3",
        "colab": {
          "base_uri": "https://localhost:8080/"
        }
      },
      "execution_count": 35,
      "outputs": [
        {
          "output_type": "execute_result",
          "data": {
            "text/plain": [
              "36"
            ]
          },
          "metadata": {},
          "execution_count": 35
        }
      ]
    },
    {
      "cell_type": "markdown",
      "source": [
        "##### Kargs"
      ],
      "metadata": {
        "id": "EgjoLSoMJD-f"
      }
    },
    {
      "cell_type": "code",
      "source": [
        "def compra_de_acoes(**kwargs):\n",
        "  if 'acao' in kwargs:\n",
        "    print('A ação comprada foi ', kwargs['acao'])\n",
        "  else:\n",
        "    print('O cliente não investe em ações')"
      ],
      "metadata": {
        "id": "qO2GIn_bNTRN"
      },
      "execution_count": 36,
      "outputs": []
    },
    {
      "cell_type": "code",
      "source": [
        "compra_de_acoes(acao = 'PETR4', rf = 'Deb Tietê')"
      ],
      "metadata": {
        "id": "0aT4WLodN2de",
        "outputId": "b71baaaf-9595-417a-e29e-47f931f9d3de",
        "colab": {
          "base_uri": "https://localhost:8080/"
        }
      },
      "execution_count": 39,
      "outputs": [
        {
          "output_type": "stream",
          "name": "stdout",
          "text": [
            "A ação comprada foi  PETR4\n"
          ]
        }
      ]
    },
    {
      "cell_type": "code",
      "source": [
        "compra_de_acoes(rf = 'Deb Tietê', futuro = 'WIN', opcoes = 'PETRD20')"
      ],
      "metadata": {
        "id": "NFHiO_LKOJn7",
        "outputId": "93bd401f-29e3-45ed-d872-4d267de375a0",
        "colab": {
          "base_uri": "https://localhost:8080/"
        }
      },
      "execution_count": 40,
      "outputs": [
        {
          "output_type": "stream",
          "name": "stdout",
          "text": [
            "O cliente não investe em ações\n"
          ]
        }
      ]
    },
    {
      "cell_type": "code",
      "source": [
        "def montagem_posicao(*args, **kwargs):\n",
        "  if 'acao' and 'lote' in kwargs:\n",
        "    print('O cliente montou uma posição de ', ' e '.join(kwargs['acao']))\n",
        "    print('Ele comprou ', ' e '.join(args), 'papéis, respectivamente')\n",
        "    print('Todas elas foram compradas no lote', kwargs['lote'])"
      ],
      "metadata": {
        "id": "ix7TOrHZOVHJ"
      },
      "execution_count": 41,
      "outputs": []
    },
    {
      "cell_type": "code",
      "source": [
        "# para passar mais de uma ação usamos tuplas\n",
        "# tive que passar a quantidade como strings para poder concatenar com o resto da frase\n",
        "montagem_posicao('100', '200', acao = ('PETR4', 'VALE3'), lote = 'inteiro')"
      ],
      "metadata": {
        "id": "NinaBnelQA7J",
        "outputId": "6f61721e-3ab7-44c0-fc0e-f4e88c9460ae",
        "colab": {
          "base_uri": "https://localhost:8080/"
        }
      },
      "execution_count": 43,
      "outputs": [
        {
          "output_type": "stream",
          "name": "stdout",
          "text": [
            "O cliente montou uma posição de  PETR4 e VALE3\n",
            "Ele comprou  100 e 200 papéis, respectivamente\n",
            "Todas elas foram compradas no lote inteiro\n"
          ]
        }
      ]
    },
    {
      "cell_type": "code",
      "source": [
        ""
      ],
      "metadata": {
        "id": "lsnSAKAWQZAQ"
      },
      "execution_count": null,
      "outputs": []
    }
  ]
}