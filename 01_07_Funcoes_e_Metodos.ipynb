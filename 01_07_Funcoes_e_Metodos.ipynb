{
  "nbformat": 4,
  "nbformat_minor": 0,
  "metadata": {
    "colab": {
      "name": "01.07-Funcoes_e_Metodos.ipynb",
      "provenance": [],
      "authorship_tag": "ABX9TyNiluVSDgQub/IANYBQk/ct",
      "include_colab_link": true
    },
    "kernelspec": {
      "name": "python3",
      "display_name": "Python 3"
    },
    "language_info": {
      "name": "python"
    }
  },
  "cells": [
    {
      "cell_type": "markdown",
      "metadata": {
        "id": "view-in-github",
        "colab_type": "text"
      },
      "source": [
        "<a href=\"https://colab.research.google.com/github/brunonbn/trading-com-dados/blob/main/01_07_Funcoes_e_Metodos.ipynb\" target=\"_parent\"><img src=\"https://colab.research.google.com/assets/colab-badge.svg\" alt=\"Open In Colab\"/></a>"
      ]
    },
    {
      "cell_type": "markdown",
      "source": [
        "## Funções e Métodos"
      ],
      "metadata": {
        "id": "ddTUCEyM2kvu"
      }
    },
    {
      "cell_type": "code",
      "source": [
        "def fala_nome():\n",
        "  print(\"Meu nome é Bruno\")"
      ],
      "metadata": {
        "id": "UV8LuLgI2VEh"
      },
      "execution_count": 1,
      "outputs": []
    },
    {
      "cell_type": "code",
      "source": [
        "fala_nome()"
      ],
      "metadata": {
        "colab": {
          "base_uri": "https://localhost:8080/"
        },
        "id": "p7PCclFx4ybJ",
        "outputId": "7dd5dc89-4320-4c23-e451-962fe12691eb"
      },
      "execution_count": 2,
      "outputs": [
        {
          "output_type": "stream",
          "name": "stdout",
          "text": [
            "Meu nome é Bruno\n"
          ]
        }
      ]
    },
    {
      "cell_type": "code",
      "source": [
        "def soma_numeros(num1, num2):\n",
        "  soma = num1 + num2\n",
        "  return soma"
      ],
      "metadata": {
        "id": "zb43yU3f4zel"
      },
      "execution_count": 3,
      "outputs": []
    },
    {
      "cell_type": "code",
      "source": [
        "novo_objeto = soma_numeros(5, 6)"
      ],
      "metadata": {
        "id": "Uxu6CdmE7ccQ"
      },
      "execution_count": 4,
      "outputs": []
    },
    {
      "cell_type": "code",
      "source": [
        "novo_objeto"
      ],
      "metadata": {
        "colab": {
          "base_uri": "https://localhost:8080/"
        },
        "id": "n3XpHILx7fpJ",
        "outputId": "f7cf3b4d-7658-4693-fb38-e323dad86e2e"
      },
      "execution_count": 5,
      "outputs": [
        {
          "output_type": "execute_result",
          "data": {
            "text/plain": [
              "11"
            ]
          },
          "metadata": {},
          "execution_count": 5
        }
      ]
    },
    {
      "cell_type": "markdown",
      "source": [
        "### Criando Docstring da função"
      ],
      "metadata": {
        "id": "D8TbqFfn_LIt"
      }
    },
    {
      "cell_type": "code",
      "source": [
        "def preco(acao):\n",
        "  ''' ESSA FUNÇÃO DEVE SER UTILIZADA PARA RETORNAR A COTAÇÃO EM TEMPO REAL DE UM PAPEL '''\n",
        "  \n",
        "  if (acao == 'PETR4'):\n",
        "    print('O preço agora é R$ 30,89')\n",
        "  elif (acao == 'VALE3'):\n",
        "    print('O preço agora é R$ 112')\n",
        "  elif (acao == 'WEGE3'):\n",
        "    print('O preço agora é R$ 32')\n",
        "  elif (acao == 'MGLU3'):\n",
        "    print('O preço agora é R$ 24,59')\n",
        "  else:\n",
        "    print('Papel desconhecido')"
      ],
      "metadata": {
        "id": "tSmraPjb8oXV"
      },
      "execution_count": 6,
      "outputs": []
    },
    {
      "cell_type": "code",
      "source": [
        "preco('VIVR3')"
      ],
      "metadata": {
        "colab": {
          "base_uri": "https://localhost:8080/"
        },
        "id": "orpN_9Ho9j5h",
        "outputId": "8bb5605d-a70d-4c35-c430-7cb1fad65035"
      },
      "execution_count": 7,
      "outputs": [
        {
          "output_type": "stream",
          "name": "stdout",
          "text": [
            "Papel desconhecido\n"
          ]
        }
      ]
    },
    {
      "cell_type": "code",
      "source": [
        "preco('VALE3')"
      ],
      "metadata": {
        "colab": {
          "base_uri": "https://localhost:8080/"
        },
        "id": "Y4qQwC7D9mIx",
        "outputId": "aa111621-ce13-4c8c-f71e-9bfec32f93e3"
      },
      "execution_count": 8,
      "outputs": [
        {
          "output_type": "stream",
          "name": "stdout",
          "text": [
            "O preço agora é R$ 112\n"
          ]
        }
      ]
    },
    {
      "cell_type": "markdown",
      "source": [
        "#### Métodos"
      ],
      "metadata": {
        "id": "grjDEaes9the"
      }
    },
    {
      "cell_type": "code",
      "source": [
        "numeros = [1, 2, 4, 6, 10]"
      ],
      "metadata": {
        "id": "MPhOPyMiAPDy"
      },
      "execution_count": 9,
      "outputs": []
    },
    {
      "cell_type": "markdown",
      "source": [
        "O “append” ou o “clear” são funções exclusivas associadas ao objeto Lista, por isso chamamos de métodos."
      ],
      "metadata": {
        "id": "OZ3I6sE9Ab2z"
      }
    },
    {
      "cell_type": "code",
      "source": [
        "numeros.append(5)"
      ],
      "metadata": {
        "id": "qIG-VGCjAVES"
      },
      "execution_count": 10,
      "outputs": []
    },
    {
      "cell_type": "code",
      "source": [
        "numeros"
      ],
      "metadata": {
        "colab": {
          "base_uri": "https://localhost:8080/"
        },
        "id": "9vh_-b2aAXoP",
        "outputId": "a86b69dd-8c37-420d-981d-b6b788bf0155"
      },
      "execution_count": 11,
      "outputs": [
        {
          "output_type": "execute_result",
          "data": {
            "text/plain": [
              "[1, 2, 4, 6, 10, 5]"
            ]
          },
          "metadata": {},
          "execution_count": 11
        }
      ]
    },
    {
      "cell_type": "code",
      "source": [
        "# para saber os atributos e métodos disponíveis em um objeto usar o comando dir\n",
        "dir(numeros)"
      ],
      "metadata": {
        "colab": {
          "base_uri": "https://localhost:8080/"
        },
        "id": "CriuCiH2AYWk",
        "outputId": "774b8436-c9d8-478f-956e-3078f6d32e78"
      },
      "execution_count": 12,
      "outputs": [
        {
          "output_type": "execute_result",
          "data": {
            "text/plain": [
              "['__add__',\n",
              " '__class__',\n",
              " '__contains__',\n",
              " '__delattr__',\n",
              " '__delitem__',\n",
              " '__dir__',\n",
              " '__doc__',\n",
              " '__eq__',\n",
              " '__format__',\n",
              " '__ge__',\n",
              " '__getattribute__',\n",
              " '__getitem__',\n",
              " '__gt__',\n",
              " '__hash__',\n",
              " '__iadd__',\n",
              " '__imul__',\n",
              " '__init__',\n",
              " '__init_subclass__',\n",
              " '__iter__',\n",
              " '__le__',\n",
              " '__len__',\n",
              " '__lt__',\n",
              " '__mul__',\n",
              " '__ne__',\n",
              " '__new__',\n",
              " '__reduce__',\n",
              " '__reduce_ex__',\n",
              " '__repr__',\n",
              " '__reversed__',\n",
              " '__rmul__',\n",
              " '__setattr__',\n",
              " '__setitem__',\n",
              " '__sizeof__',\n",
              " '__str__',\n",
              " '__subclasshook__',\n",
              " 'append',\n",
              " 'clear',\n",
              " 'copy',\n",
              " 'count',\n",
              " 'extend',\n",
              " 'index',\n",
              " 'insert',\n",
              " 'pop',\n",
              " 'remove',\n",
              " 'reverse',\n",
              " 'sort']"
            ]
          },
          "metadata": {},
          "execution_count": 12
        }
      ]
    },
    {
      "cell_type": "markdown",
      "source": [
        "#### Funções embutidas"
      ],
      "metadata": {
        "id": "yEsZiXG6BDdh"
      }
    },
    {
      "cell_type": "markdown",
      "source": [
        "##### Map"
      ],
      "metadata": {
        "id": "ubciO4pGCECr"
      }
    },
    {
      "cell_type": "code",
      "source": [
        "def potencia(num, pot = 2):\n",
        "  return num**pot"
      ],
      "metadata": {
        "id": "9KE8niImCcGN"
      },
      "execution_count": 13,
      "outputs": []
    },
    {
      "cell_type": "code",
      "source": [
        "potencia(3)"
      ],
      "metadata": {
        "colab": {
          "base_uri": "https://localhost:8080/"
        },
        "id": "93V2WhnFClWH",
        "outputId": "efddf4eb-b8fc-49dc-857c-922a63016aae"
      },
      "execution_count": 14,
      "outputs": [
        {
          "output_type": "execute_result",
          "data": {
            "text/plain": [
              "9"
            ]
          },
          "metadata": {},
          "execution_count": 14
        }
      ]
    },
    {
      "cell_type": "code",
      "source": [
        "potencia(3, 4)"
      ],
      "metadata": {
        "colab": {
          "base_uri": "https://localhost:8080/"
        },
        "id": "SatRf5AVCzHA",
        "outputId": "aa393349-11c7-4706-c3e9-3ba38ebc9be5"
      },
      "execution_count": 15,
      "outputs": [
        {
          "output_type": "execute_result",
          "data": {
            "text/plain": [
              "81"
            ]
          },
          "metadata": {},
          "execution_count": 15
        }
      ]
    },
    {
      "cell_type": "code",
      "source": [
        "lista_numeros = [1, 2, 3, 4, 5]"
      ],
      "metadata": {
        "id": "tsctCP6UC1xj"
      },
      "execution_count": 16,
      "outputs": []
    },
    {
      "cell_type": "code",
      "source": [
        "map(potencia, lista_numeros)"
      ],
      "metadata": {
        "colab": {
          "base_uri": "https://localhost:8080/"
        },
        "id": "c5G2lPUBDBRd",
        "outputId": "98bcc625-cda5-475e-ccb4-d1108d97a312"
      },
      "execution_count": 17,
      "outputs": [
        {
          "output_type": "execute_result",
          "data": {
            "text/plain": [
              "<map at 0x7fd85aa0f510>"
            ]
          },
          "metadata": {},
          "execution_count": 17
        }
      ]
    },
    {
      "cell_type": "code",
      "source": [
        "# só é possível exibir o resultado se colocar dentro de uma lista\n",
        "list(map(potencia, lista_numeros))"
      ],
      "metadata": {
        "colab": {
          "base_uri": "https://localhost:8080/"
        },
        "id": "lKWJCKIZDE_w",
        "outputId": "706dd048-e685-4b4b-d21d-8f4fc1cdda48"
      },
      "execution_count": 18,
      "outputs": [
        {
          "output_type": "execute_result",
          "data": {
            "text/plain": [
              "[1, 4, 9, 16, 25]"
            ]
          },
          "metadata": {},
          "execution_count": 18
        }
      ]
    },
    {
      "cell_type": "markdown",
      "source": [
        "##### Filter"
      ],
      "metadata": {
        "id": "FtyXI8OKDS5I"
      }
    },
    {
      "cell_type": "code",
      "source": [
        "def checar_par(num):\n",
        "  return num%2 == 0"
      ],
      "metadata": {
        "id": "xGRxeJm1EjhO"
      },
      "execution_count": 19,
      "outputs": []
    },
    {
      "cell_type": "code",
      "source": [
        "checar_par(3)"
      ],
      "metadata": {
        "colab": {
          "base_uri": "https://localhost:8080/"
        },
        "id": "Zg5Vd_tuEvcV",
        "outputId": "b92d8dd7-0b9d-4b6b-9aed-486ce20c80d4"
      },
      "execution_count": 20,
      "outputs": [
        {
          "output_type": "execute_result",
          "data": {
            "text/plain": [
              "False"
            ]
          },
          "metadata": {},
          "execution_count": 20
        }
      ]
    },
    {
      "cell_type": "code",
      "source": [
        "list(filter(checar_par, lista_numeros))"
      ],
      "metadata": {
        "colab": {
          "base_uri": "https://localhost:8080/"
        },
        "id": "AJ-jFlouEx0e",
        "outputId": "3d841909-6efc-415a-9a6f-6a7e3fa31f0d"
      },
      "execution_count": 21,
      "outputs": [
        {
          "output_type": "execute_result",
          "data": {
            "text/plain": [
              "[2, 4]"
            ]
          },
          "metadata": {},
          "execution_count": 21
        }
      ]
    },
    {
      "cell_type": "markdown",
      "source": [
        "##### Funções Anônimas: Lambda"
      ],
      "metadata": {
        "id": "xjchV161FMWy"
      }
    },
    {
      "cell_type": "code",
      "source": [
        "def quadrado(num):\n",
        "  return num**2"
      ],
      "metadata": {
        "id": "YHQiL8FvCe3p"
      },
      "execution_count": 22,
      "outputs": []
    },
    {
      "cell_type": "code",
      "source": [
        "quadrado(5)"
      ],
      "metadata": {
        "id": "zlZvDgwmC_fl",
        "outputId": "b13e9941-b504-46ac-9b24-a8fe33eb672d",
        "colab": {
          "base_uri": "https://localhost:8080/"
        }
      },
      "execution_count": 23,
      "outputs": [
        {
          "output_type": "execute_result",
          "data": {
            "text/plain": [
              "25"
            ]
          },
          "metadata": {},
          "execution_count": 23
        }
      ]
    },
    {
      "cell_type": "code",
      "source": [
        "lambda num: num**2"
      ],
      "metadata": {
        "id": "WubAaIVaDBO-",
        "outputId": "50eb6f9e-ba12-4301-9e86-090059d2e616",
        "colab": {
          "base_uri": "https://localhost:8080/"
        }
      },
      "execution_count": 24,
      "outputs": [
        {
          "output_type": "execute_result",
          "data": {
            "text/plain": [
              "<function __main__.<lambda>>"
            ]
          },
          "metadata": {},
          "execution_count": 24
        }
      ]
    },
    {
      "cell_type": "code",
      "source": [
        "quadrado_lambda = lambda num: num**2"
      ],
      "metadata": {
        "id": "3Pww6L4oDIuy"
      },
      "execution_count": 25,
      "outputs": []
    },
    {
      "cell_type": "code",
      "source": [
        "quadrado_lambda(5)"
      ],
      "metadata": {
        "id": "CTMd20LODlL_",
        "outputId": "aae69bd5-ae68-406d-b898-e2d457b27c34",
        "colab": {
          "base_uri": "https://localhost:8080/"
        }
      },
      "execution_count": 26,
      "outputs": [
        {
          "output_type": "execute_result",
          "data": {
            "text/plain": [
              "25"
            ]
          },
          "metadata": {},
          "execution_count": 26
        }
      ]
    },
    {
      "cell_type": "code",
      "source": [
        "list(map(lambda num: num**2, lista_numeros))"
      ],
      "metadata": {
        "id": "hjaeHQGWDnoU",
        "outputId": "762e6ca7-b597-43e6-a318-7e14607b12b7",
        "colab": {
          "base_uri": "https://localhost:8080/"
        }
      },
      "execution_count": 27,
      "outputs": [
        {
          "output_type": "execute_result",
          "data": {
            "text/plain": [
              "[1, 4, 9, 16, 25]"
            ]
          },
          "metadata": {},
          "execution_count": 27
        }
      ]
    },
    {
      "cell_type": "code",
      "source": [
        "list(filter(lambda num: num%2==0, lista_numeros))"
      ],
      "metadata": {
        "id": "IH5RQ-9jEgtT",
        "outputId": "478d0806-4085-415d-c17a-5a9abbbc0a13",
        "colab": {
          "base_uri": "https://localhost:8080/"
        }
      },
      "execution_count": 28,
      "outputs": [
        {
          "output_type": "execute_result",
          "data": {
            "text/plain": [
              "[2, 4]"
            ]
          },
          "metadata": {},
          "execution_count": 28
        }
      ]
    },
    {
      "cell_type": "markdown",
      "source": [
        "##### Args"
      ],
      "metadata": {
        "id": "LHidf6L9FEej"
      }
    },
    {
      "cell_type": "code",
      "source": [
        "# para somar 3 números\n",
        "def soma_varios(a,b,c):\n",
        "  soma = sum((a,b,c))\n",
        "  return soma"
      ],
      "metadata": {
        "id": "qXF-bsZ6GY4L"
      },
      "execution_count": 29,
      "outputs": []
    },
    {
      "cell_type": "code",
      "source": [
        "soma_varios(1,2,3)"
      ],
      "metadata": {
        "id": "JiBHd--QGgsK",
        "outputId": "e2e9d65b-fe0f-491f-a234-b47dd2dc7de4",
        "colab": {
          "base_uri": "https://localhost:8080/"
        }
      },
      "execution_count": 30,
      "outputs": [
        {
          "output_type": "execute_result",
          "data": {
            "text/plain": [
              "6"
            ]
          },
          "metadata": {},
          "execution_count": 30
        }
      ]
    },
    {
      "cell_type": "code",
      "source": [
        "# para somar 5 números\n",
        "def soma_varios(a,b,c,d,e):\n",
        "  soma = sum((a,b,c,d,e))\n",
        "  return soma"
      ],
      "metadata": {
        "id": "EqflMQyhGizg"
      },
      "execution_count": 31,
      "outputs": []
    },
    {
      "cell_type": "code",
      "source": [
        "soma_varios(1,2,3,4,5)"
      ],
      "metadata": {
        "id": "_5p9RKmoGwfw",
        "outputId": "f6c43f7a-7051-4e02-ae94-efea7dea8e7e",
        "colab": {
          "base_uri": "https://localhost:8080/"
        }
      },
      "execution_count": 32,
      "outputs": [
        {
          "output_type": "execute_result",
          "data": {
            "text/plain": [
              "15"
            ]
          },
          "metadata": {},
          "execution_count": 32
        }
      ]
    },
    {
      "cell_type": "code",
      "source": [
        "def soma_varios(*args):\n",
        "  soma = sum(args)\n",
        "  return soma"
      ],
      "metadata": {
        "id": "w6k_oca0GymD"
      },
      "execution_count": 33,
      "outputs": []
    },
    {
      "cell_type": "code",
      "source": [
        "soma_varios(1)"
      ],
      "metadata": {
        "id": "geEdavEFI_Tz",
        "outputId": "4e79d0af-a127-456b-baf3-d82a16cb5abf",
        "colab": {
          "base_uri": "https://localhost:8080/"
        }
      },
      "execution_count": 34,
      "outputs": [
        {
          "output_type": "execute_result",
          "data": {
            "text/plain": [
              "1"
            ]
          },
          "metadata": {},
          "execution_count": 34
        }
      ]
    },
    {
      "cell_type": "code",
      "source": [
        "soma_varios(1,2,3,4,5,6,7,8)"
      ],
      "metadata": {
        "id": "-iZ2btyXJA6u",
        "outputId": "ae13a271-47cf-4266-83bc-d39af1604d69",
        "colab": {
          "base_uri": "https://localhost:8080/"
        }
      },
      "execution_count": 35,
      "outputs": [
        {
          "output_type": "execute_result",
          "data": {
            "text/plain": [
              "36"
            ]
          },
          "metadata": {},
          "execution_count": 35
        }
      ]
    },
    {
      "cell_type": "code",
      "source": [
        ""
      ],
      "metadata": {
        "id": "EgjoLSoMJD-f"
      },
      "execution_count": null,
      "outputs": []
    }
  ]
}