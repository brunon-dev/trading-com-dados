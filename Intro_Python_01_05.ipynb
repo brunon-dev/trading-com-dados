{
  "nbformat": 4,
  "nbformat_minor": 0,
  "metadata": {
    "colab": {
      "name": "Intro-Python-01.05.ipynb",
      "provenance": [],
      "authorship_tag": "ABX9TyNnkSpvPIPEJ3rvhHe/IVMf",
      "include_colab_link": true
    },
    "kernelspec": {
      "name": "python3",
      "display_name": "Python 3"
    },
    "language_info": {
      "name": "python"
    }
  },
  "cells": [
    {
      "cell_type": "markdown",
      "metadata": {
        "id": "view-in-github",
        "colab_type": "text"
      },
      "source": [
        "<a href=\"https://colab.research.google.com/github/brunonbn/trading-com-dados/blob/main/Intro_Python_01_05.ipynb\" target=\"_parent\"><img src=\"https://colab.research.google.com/assets/colab-badge.svg\" alt=\"Open In Colab\"/></a>"
      ]
    },
    {
      "cell_type": "markdown",
      "metadata": {
        "id": "HAQhYL28Lo-w"
      },
      "source": [
        "## Instala a bibilioteca do Yahoo Finance"
      ]
    },
    {
      "cell_type": "code",
      "metadata": {
        "colab": {
          "base_uri": "https://localhost:8080/"
        },
        "id": "J2dNC8qpL4nv",
        "outputId": "60cbd410-4cf6-4ceb-f994-231672494c46"
      },
      "source": [
        "pip install yfinance"
      ],
      "execution_count": 1,
      "outputs": [
        {
          "output_type": "stream",
          "name": "stdout",
          "text": [
            "Collecting yfinance\n",
            "  Downloading yfinance-0.1.67-py2.py3-none-any.whl (25 kB)\n",
            "Requirement already satisfied: pandas>=0.24 in /usr/local/lib/python3.7/dist-packages (from yfinance) (1.1.5)\n",
            "Collecting lxml>=4.5.1\n",
            "  Downloading lxml-4.6.4-cp37-cp37m-manylinux_2_17_x86_64.manylinux2014_x86_64.manylinux_2_24_x86_64.whl (6.3 MB)\n",
            "\u001b[K     |████████████████████████████████| 6.3 MB 7.5 MB/s \n",
            "\u001b[?25hRequirement already satisfied: numpy>=1.15 in /usr/local/lib/python3.7/dist-packages (from yfinance) (1.19.5)\n",
            "Requirement already satisfied: requests>=2.20 in /usr/local/lib/python3.7/dist-packages (from yfinance) (2.23.0)\n",
            "Requirement already satisfied: multitasking>=0.0.7 in /usr/local/lib/python3.7/dist-packages (from yfinance) (0.0.10)\n",
            "Requirement already satisfied: pytz>=2017.2 in /usr/local/lib/python3.7/dist-packages (from pandas>=0.24->yfinance) (2018.9)\n",
            "Requirement already satisfied: python-dateutil>=2.7.3 in /usr/local/lib/python3.7/dist-packages (from pandas>=0.24->yfinance) (2.8.2)\n",
            "Requirement already satisfied: six>=1.5 in /usr/local/lib/python3.7/dist-packages (from python-dateutil>=2.7.3->pandas>=0.24->yfinance) (1.15.0)\n",
            "Requirement already satisfied: chardet<4,>=3.0.2 in /usr/local/lib/python3.7/dist-packages (from requests>=2.20->yfinance) (3.0.4)\n",
            "Requirement already satisfied: urllib3!=1.25.0,!=1.25.1,<1.26,>=1.21.1 in /usr/local/lib/python3.7/dist-packages (from requests>=2.20->yfinance) (1.24.3)\n",
            "Requirement already satisfied: certifi>=2017.4.17 in /usr/local/lib/python3.7/dist-packages (from requests>=2.20->yfinance) (2021.10.8)\n",
            "Requirement already satisfied: idna<3,>=2.5 in /usr/local/lib/python3.7/dist-packages (from requests>=2.20->yfinance) (2.10)\n",
            "Installing collected packages: lxml, yfinance\n",
            "  Attempting uninstall: lxml\n",
            "    Found existing installation: lxml 4.2.6\n",
            "    Uninstalling lxml-4.2.6:\n",
            "      Successfully uninstalled lxml-4.2.6\n",
            "Successfully installed lxml-4.6.4 yfinance-0.1.67\n"
          ]
        }
      ]
    },
    {
      "cell_type": "markdown",
      "metadata": {
        "id": "BKdivNn3MLs_"
      },
      "source": [
        "## Importa a Yahoo Finance e a Pandas"
      ]
    },
    {
      "cell_type": "code",
      "metadata": {
        "id": "TZ8CiaLYLh4k"
      },
      "source": [
        "import yfinance as yf\n",
        "import pandas as pd"
      ],
      "execution_count": 2,
      "outputs": []
    },
    {
      "cell_type": "code",
      "metadata": {
        "colab": {
          "base_uri": "https://localhost:8080/"
        },
        "id": "08SsdgGyMPny",
        "outputId": "414101ad-6dbe-496f-b421-4664aef9bd4e"
      },
      "source": [
        "dados = yf.download('MGLU3.SA', start='2020-01-01', end='2021-07-01')"
      ],
      "execution_count": 3,
      "outputs": [
        {
          "output_type": "stream",
          "name": "stdout",
          "text": [
            "\r[*********************100%***********************]  1 of 1 completed\n"
          ]
        }
      ]
    },
    {
      "cell_type": "code",
      "metadata": {
        "colab": {
          "base_uri": "https://localhost:8080/",
          "height": 237
        },
        "id": "a2CLakydMjZD",
        "outputId": "c82ce2c7-c96c-4a95-df6e-7ebf8029ebd0"
      },
      "source": [
        "# \"Adj Close\" é fechamento ajustado (adjustmeted close) - considera pagamento de dividendo, split, etc.\n",
        "dados.head()"
      ],
      "execution_count": 4,
      "outputs": [
        {
          "output_type": "execute_result",
          "data": {
            "text/html": [
              "<div>\n",
              "<style scoped>\n",
              "    .dataframe tbody tr th:only-of-type {\n",
              "        vertical-align: middle;\n",
              "    }\n",
              "\n",
              "    .dataframe tbody tr th {\n",
              "        vertical-align: top;\n",
              "    }\n",
              "\n",
              "    .dataframe thead th {\n",
              "        text-align: right;\n",
              "    }\n",
              "</style>\n",
              "<table border=\"1\" class=\"dataframe\">\n",
              "  <thead>\n",
              "    <tr style=\"text-align: right;\">\n",
              "      <th></th>\n",
              "      <th>Open</th>\n",
              "      <th>High</th>\n",
              "      <th>Low</th>\n",
              "      <th>Close</th>\n",
              "      <th>Adj Close</th>\n",
              "      <th>Volume</th>\n",
              "    </tr>\n",
              "    <tr>\n",
              "      <th>Date</th>\n",
              "      <th></th>\n",
              "      <th></th>\n",
              "      <th></th>\n",
              "      <th></th>\n",
              "      <th></th>\n",
              "      <th></th>\n",
              "    </tr>\n",
              "  </thead>\n",
              "  <tbody>\n",
              "    <tr>\n",
              "      <th>2020-01-02</th>\n",
              "      <td>12.075</td>\n",
              "      <td>12.3325</td>\n",
              "      <td>11.9275</td>\n",
              "      <td>12.3325</td>\n",
              "      <td>12.029735</td>\n",
              "      <td>29600800</td>\n",
              "    </tr>\n",
              "    <tr>\n",
              "      <th>2020-01-03</th>\n",
              "      <td>12.125</td>\n",
              "      <td>12.3325</td>\n",
              "      <td>12.0750</td>\n",
              "      <td>12.2225</td>\n",
              "      <td>11.922436</td>\n",
              "      <td>26737600</td>\n",
              "    </tr>\n",
              "    <tr>\n",
              "      <th>2020-01-06</th>\n",
              "      <td>12.100</td>\n",
              "      <td>12.3275</td>\n",
              "      <td>11.9500</td>\n",
              "      <td>12.2325</td>\n",
              "      <td>11.932190</td>\n",
              "      <td>27359200</td>\n",
              "    </tr>\n",
              "    <tr>\n",
              "      <th>2020-01-07</th>\n",
              "      <td>12.235</td>\n",
              "      <td>12.3000</td>\n",
              "      <td>12.1250</td>\n",
              "      <td>12.1975</td>\n",
              "      <td>11.898049</td>\n",
              "      <td>26818800</td>\n",
              "    </tr>\n",
              "    <tr>\n",
              "      <th>2020-01-08</th>\n",
              "      <td>12.155</td>\n",
              "      <td>12.5875</td>\n",
              "      <td>12.1250</td>\n",
              "      <td>12.5725</td>\n",
              "      <td>12.263843</td>\n",
              "      <td>40007200</td>\n",
              "    </tr>\n",
              "  </tbody>\n",
              "</table>\n",
              "</div>"
            ],
            "text/plain": [
              "              Open     High      Low    Close  Adj Close    Volume\n",
              "Date                                                              \n",
              "2020-01-02  12.075  12.3325  11.9275  12.3325  12.029735  29600800\n",
              "2020-01-03  12.125  12.3325  12.0750  12.2225  11.922436  26737600\n",
              "2020-01-06  12.100  12.3275  11.9500  12.2325  11.932190  27359200\n",
              "2020-01-07  12.235  12.3000  12.1250  12.1975  11.898049  26818800\n",
              "2020-01-08  12.155  12.5875  12.1250  12.5725  12.263843  40007200"
            ]
          },
          "metadata": {},
          "execution_count": 4
        }
      ]
    },
    {
      "cell_type": "code",
      "metadata": {
        "id": "Cic06bRNMlnN"
      },
      "source": [
        "lista_ativos = ['PETR4.SA', 'WEGE3.SA', 'MGLU3.SA', 'LREN3.SA', 'RENT3.SA', 'VALE3.SA']"
      ],
      "execution_count": 5,
      "outputs": []
    },
    {
      "cell_type": "code",
      "metadata": {
        "colab": {
          "base_uri": "https://localhost:8080/"
        },
        "id": "MhFmbrFyOZrh",
        "outputId": "41ad45a5-270d-47c0-ed7e-a274b87b3c89"
      },
      "source": [
        "for acoes in lista_ativos:\n",
        "  print(acoes)"
      ],
      "execution_count": 6,
      "outputs": [
        {
          "output_type": "stream",
          "name": "stdout",
          "text": [
            "PETR4.SA\n",
            "WEGE3.SA\n",
            "MGLU3.SA\n",
            "LREN3.SA\n",
            "RENT3.SA\n",
            "VALE3.SA\n"
          ]
        }
      ]
    },
    {
      "cell_type": "code",
      "metadata": {
        "id": "Vzun2zNSPdud"
      },
      "source": [
        "df = pd.DataFrame()"
      ],
      "execution_count": 7,
      "outputs": []
    },
    {
      "cell_type": "code",
      "metadata": {
        "colab": {
          "base_uri": "https://localhost:8080/"
        },
        "id": "UaAdyPI4OejS",
        "outputId": "cde63c3f-1ed8-45b2-8c40-854ed7efc235"
      },
      "source": [
        "for acoes in lista_ativos:\n",
        "  df[acoes] = yf.download(acoes, start='2020-01-01', end='2021-07-01')['Adj Close']"
      ],
      "execution_count": 8,
      "outputs": [
        {
          "output_type": "stream",
          "name": "stdout",
          "text": [
            "[*********************100%***********************]  1 of 1 completed\n",
            "[*********************100%***********************]  1 of 1 completed\n",
            "[*********************100%***********************]  1 of 1 completed\n",
            "[*********************100%***********************]  1 of 1 completed\n",
            "[*********************100%***********************]  1 of 1 completed\n",
            "[*********************100%***********************]  1 of 1 completed\n"
          ]
        }
      ]
    },
    {
      "cell_type": "code",
      "metadata": {
        "colab": {
          "base_uri": "https://localhost:8080/",
          "height": 237
        },
        "id": "sE5i8IVZPjfU",
        "outputId": "c3b244cb-7d17-4dd7-f185-7fda8731614b"
      },
      "source": [
        "df.head()"
      ],
      "execution_count": 9,
      "outputs": [
        {
          "output_type": "execute_result",
          "data": {
            "text/html": [
              "<div>\n",
              "<style scoped>\n",
              "    .dataframe tbody tr th:only-of-type {\n",
              "        vertical-align: middle;\n",
              "    }\n",
              "\n",
              "    .dataframe tbody tr th {\n",
              "        vertical-align: top;\n",
              "    }\n",
              "\n",
              "    .dataframe thead th {\n",
              "        text-align: right;\n",
              "    }\n",
              "</style>\n",
              "<table border=\"1\" class=\"dataframe\">\n",
              "  <thead>\n",
              "    <tr style=\"text-align: right;\">\n",
              "      <th></th>\n",
              "      <th>PETR4.SA</th>\n",
              "      <th>WEGE3.SA</th>\n",
              "      <th>MGLU3.SA</th>\n",
              "      <th>LREN3.SA</th>\n",
              "      <th>RENT3.SA</th>\n",
              "      <th>VALE3.SA</th>\n",
              "    </tr>\n",
              "    <tr>\n",
              "      <th>Date</th>\n",
              "      <th></th>\n",
              "      <th></th>\n",
              "      <th></th>\n",
              "      <th></th>\n",
              "      <th></th>\n",
              "      <th></th>\n",
              "    </tr>\n",
              "  </thead>\n",
              "  <tbody>\n",
              "    <tr>\n",
              "      <th>2020-01-02</th>\n",
              "      <td>28.028814</td>\n",
              "      <td>17.296631</td>\n",
              "      <td>12.029735</td>\n",
              "      <td>55.507210</td>\n",
              "      <td>48.985138</td>\n",
              "      <td>44.330608</td>\n",
              "    </tr>\n",
              "    <tr>\n",
              "      <th>2020-01-03</th>\n",
              "      <td>27.800568</td>\n",
              "      <td>17.075758</td>\n",
              "      <td>11.922434</td>\n",
              "      <td>55.121067</td>\n",
              "      <td>48.274349</td>\n",
              "      <td>44.004223</td>\n",
              "    </tr>\n",
              "    <tr>\n",
              "      <th>2020-01-06</th>\n",
              "      <td>28.129242</td>\n",
              "      <td>17.119932</td>\n",
              "      <td>11.932190</td>\n",
              "      <td>55.072807</td>\n",
              "      <td>47.711647</td>\n",
              "      <td>43.743122</td>\n",
              "    </tr>\n",
              "    <tr>\n",
              "      <th>2020-01-07</th>\n",
              "      <td>28.019684</td>\n",
              "      <td>17.252455</td>\n",
              "      <td>11.898048</td>\n",
              "      <td>55.043850</td>\n",
              "      <td>48.175629</td>\n",
              "      <td>44.061340</td>\n",
              "    </tr>\n",
              "    <tr>\n",
              "      <th>2020-01-08</th>\n",
              "      <td>27.846216</td>\n",
              "      <td>16.599665</td>\n",
              "      <td>12.263843</td>\n",
              "      <td>55.401024</td>\n",
              "      <td>47.938698</td>\n",
              "      <td>44.069500</td>\n",
              "    </tr>\n",
              "  </tbody>\n",
              "</table>\n",
              "</div>"
            ],
            "text/plain": [
              "             PETR4.SA   WEGE3.SA   MGLU3.SA   LREN3.SA   RENT3.SA   VALE3.SA\n",
              "Date                                                                        \n",
              "2020-01-02  28.028814  17.296631  12.029735  55.507210  48.985138  44.330608\n",
              "2020-01-03  27.800568  17.075758  11.922434  55.121067  48.274349  44.004223\n",
              "2020-01-06  28.129242  17.119932  11.932190  55.072807  47.711647  43.743122\n",
              "2020-01-07  28.019684  17.252455  11.898048  55.043850  48.175629  44.061340\n",
              "2020-01-08  27.846216  16.599665  12.263843  55.401024  47.938698  44.069500"
            ]
          },
          "metadata": {},
          "execution_count": 9
        }
      ]
    },
    {
      "cell_type": "code",
      "metadata": {
        "colab": {
          "base_uri": "https://localhost:8080/",
          "height": 295
        },
        "id": "rUd7ssF9PlUK",
        "outputId": "3e023733-608d-4850-8247-0b76724e300a"
      },
      "source": [
        "df.plot()"
      ],
      "execution_count": 10,
      "outputs": [
        {
          "output_type": "execute_result",
          "data": {
            "text/plain": [
              "<matplotlib.axes._subplots.AxesSubplot at 0x7f66ba6a9790>"
            ]
          },
          "metadata": {},
          "execution_count": 10
        },
        {
          "output_type": "display_data",
          "data": {
            "image/png": "[encoded data removed]",
            "text/plain": [
              "<Figure size 432x288 with 1 Axes>"
            ]
          },
          "metadata": {
            "needs_background": "light"
          }
        }
      ]
    },
    {
      "cell_type": "markdown",
      "metadata": {
        "id": "BX9k-kwBP1f3"
      },
      "source": [
        "## Estrutura de repetição While"
      ]
    },
    {
      "cell_type": "code",
      "metadata": {
        "id": "gHfVcGo1YRsB"
      },
      "source": [
        "investimento_unitario = 0\n",
        "investimento_total = 0"
      ],
      "execution_count": 11,
      "outputs": []
    },
    {
      "cell_type": "code",
      "metadata": {
        "colab": {
          "base_uri": "https://localhost:8080/"
        },
        "id": "HQ2fjzRmYWkD",
        "outputId": "92a1f444-a206-471c-d725-118f08fb6f16"
      },
      "source": [
        "while investimento_total < 10000:\n",
        "  investimento_unitario = int(input('Digite o valor investido na operação: '))\n",
        "  investimento_total = investimento_total + investimento_unitario\n",
        "else:\n",
        "  print('Limite total previsto para investir foi atingido!')\n",
        "  print('Você excedeu ', investimento_total - 10000, ' do valor previsto')\n",
        "\n",
        "print('Você investiu o total de R$', investimento_total)"
      ],
      "execution_count": 12,
      "outputs": [
        {
          "output_type": "stream",
          "name": "stdout",
          "text": [
            "Digite o valor investido na operação: 11000\n",
            "Limite total previsto para investir foi atingido!\n",
            "Você excedeu  1000  do valor previsto\n",
            "Você investiu o total de R$ 11000\n"
          ]
        }
      ]
    },
    {
      "cell_type": "markdown",
      "metadata": {
        "id": "ziW4PsNPFxeo"
      },
      "source": [
        "## Conteúdo do módulo 01.6 - Outros operadores"
      ]
    },
    {
      "cell_type": "code",
      "metadata": {
        "id": "Defb3qFzYiLY",
        "outputId": "42dfa5b8-4537-44aa-93ea-613710f8367e",
        "colab": {
          "base_uri": "https://localhost:8080/"
        }
      },
      "source": [
        "# enumerate\n",
        "acao = 'PETR4'\n",
        "for i, letra in enumerate(acao):\n",
        "  print('No índice', i, 'o caractere é', letra)"
      ],
      "execution_count": 20,
      "outputs": [
        {
          "output_type": "stream",
          "name": "stdout",
          "text": [
            "No índice 0 o caractere é P\n",
            "No índice 1 o caractere é E\n",
            "No índice 2 o caractere é T\n",
            "No índice 3 o caractere é R\n",
            "No índice 4 o caractere é 4\n"
          ]
        }
      ]
    },
    {
      "cell_type": "code",
      "metadata": {
        "id": "NK0lHYTDF-Uv"
      },
      "source": [
        "# Zip & In\n",
        "lista_acoes = ['PETR4', 'WEGE3', 'MGLU3', 'JHSF3', 'GOAU4']\n",
        "setores = ['Petróleo', 'Motores', 'Varejo', 'Construção', 'Metalurgia']"
      ],
      "execution_count": 18,
      "outputs": []
    },
    {
      "cell_type": "code",
      "metadata": {
        "id": "1TrtbJz6GhS9",
        "outputId": "ece53d38-277e-4d73-b704-989b5cb93696",
        "colab": {
          "base_uri": "https://localhost:8080/"
        }
      },
      "source": [
        "list(zip(lista_acoes, setores))"
      ],
      "execution_count": 19,
      "outputs": [
        {
          "output_type": "execute_result",
          "data": {
            "text/plain": [
              "[('PETR4', 'Petróleo'),\n",
              " ('WEGE3', 'Motores'),\n",
              " ('MGLU3', 'Varejo'),\n",
              " ('JHSF3', 'Construção'),\n",
              " ('GOAU4', 'Metalurgia')]"
            ]
          },
          "metadata": {},
          "execution_count": 19
        }
      ]
    },
    {
      "cell_type": "code",
      "metadata": {
        "id": "ofU2306IGkU_",
        "outputId": "ad0bd3cf-b092-4850-89e9-82c4b477ee4e",
        "colab": {
          "base_uri": "https://localhost:8080/"
        }
      },
      "source": [
        "for acao, setor in list(zip(lista_acoes, setores)):\n",
        "  print('O papel', acao, 'pertence ao setor', setor)"
      ],
      "execution_count": 21,
      "outputs": [
        {
          "output_type": "stream",
          "name": "stdout",
          "text": [
            "O papel PETR4 pertence ao setor Petróleo\n",
            "O papel WEGE3 pertence ao setor Motores\n",
            "O papel MGLU3 pertence ao setor Varejo\n",
            "O papel JHSF3 pertence ao setor Construção\n",
            "O papel GOAU4 pertence ao setor Metalurgia\n"
          ]
        }
      ]
    },
    {
      "cell_type": "code",
      "metadata": {
        "id": "XXwl3SDJHFAQ",
        "outputId": "1f4fdc98-3b51-4c61-d8a8-6316ceba45fe",
        "colab": {
          "base_uri": "https://localhost:8080/"
        }
      },
      "source": [
        "# colocando f antes da string e mudando a concatenação dos valores\n",
        "for acao, setor in list(zip(lista_acoes, setores)):\n",
        "  print(f'O papel {acao} pertence ao setor {setor}')"
      ],
      "execution_count": 22,
      "outputs": [
        {
          "output_type": "stream",
          "name": "stdout",
          "text": [
            "O papel PETR4 pertence ao setor Petróleo\n",
            "O papel WEGE3 pertence ao setor Motores\n",
            "O papel MGLU3 pertence ao setor Varejo\n",
            "O papel JHSF3 pertence ao setor Construção\n",
            "O papel GOAU4 pertence ao setor Metalurgia\n"
          ]
        }
      ]
    },
    {
      "cell_type": "code",
      "metadata": {
        "id": "B9q6DZKRH0RT",
        "outputId": "6670edc8-97f0-4e26-a90c-36333adae36e",
        "colab": {
          "base_uri": "https://localhost:8080/"
        }
      },
      "source": [
        "'VIVR3' in lista_acoes"
      ],
      "execution_count": 23,
      "outputs": [
        {
          "output_type": "execute_result",
          "data": {
            "text/plain": [
              "False"
            ]
          },
          "metadata": {},
          "execution_count": 23
        }
      ]
    },
    {
      "cell_type": "code",
      "metadata": {
        "id": "YH1BUA04IDrG",
        "outputId": "49961775-aa59-416f-e748-1eca31f7f48c",
        "colab": {
          "base_uri": "https://localhost:8080/"
        }
      },
      "source": [
        "'WEGE3' in lista_acoes"
      ],
      "execution_count": 24,
      "outputs": [
        {
          "output_type": "execute_result",
          "data": {
            "text/plain": [
              "True"
            ]
          },
          "metadata": {},
          "execution_count": 24
        }
      ]
    },
    {
      "cell_type": "code",
      "metadata": {
        "id": "yovFpDoxIHKT"
      },
      "source": [
        "# Random\n",
        "from random import randint, shuffle"
      ],
      "execution_count": 25,
      "outputs": []
    },
    {
      "cell_type": "code",
      "metadata": {
        "id": "hGI-Wrj4Ifvi",
        "outputId": "0aa1bc92-8724-40b4-c09e-74469f53a1c1",
        "colab": {
          "base_uri": "https://localhost:8080/"
        }
      },
      "source": [
        "randint(0, 100)"
      ],
      "execution_count": 26,
      "outputs": [
        {
          "output_type": "execute_result",
          "data": {
            "text/plain": [
              "97"
            ]
          },
          "metadata": {},
          "execution_count": 26
        }
      ]
    },
    {
      "cell_type": "code",
      "metadata": {
        "id": "zYmNLuy2IhkO"
      },
      "source": [
        "list_rand = []\n",
        "\n",
        "for i in range (0,10):\n",
        "  list_rand.append(randint(0,100))"
      ],
      "execution_count": 27,
      "outputs": []
    },
    {
      "cell_type": "code",
      "metadata": {
        "id": "U91eB7ARIzrH",
        "outputId": "23b3dd3f-3166-4f29-bdd6-19ec58771c72",
        "colab": {
          "base_uri": "https://localhost:8080/"
        }
      },
      "source": [
        "list_rand"
      ],
      "execution_count": 28,
      "outputs": [
        {
          "output_type": "execute_result",
          "data": {
            "text/plain": [
              "[88, 24, 50, 71, 62, 74, 20, 38, 45, 3]"
            ]
          },
          "metadata": {},
          "execution_count": 28
        }
      ]
    },
    {
      "cell_type": "code",
      "metadata": {
        "id": "YFr7uywbI1Fa"
      },
      "source": [
        "shuffle(list_rand)"
      ],
      "execution_count": 29,
      "outputs": []
    },
    {
      "cell_type": "code",
      "metadata": {
        "id": "41Is1UEqI4nV",
        "outputId": "0dbed701-6724-4631-a351-2023a9c205ff",
        "colab": {
          "base_uri": "https://localhost:8080/"
        }
      },
      "source": [
        "list_rand"
      ],
      "execution_count": 30,
      "outputs": [
        {
          "output_type": "execute_result",
          "data": {
            "text/plain": [
              "[3, 50, 74, 71, 24, 62, 88, 20, 38, 45]"
            ]
          },
          "metadata": {},
          "execution_count": 30
        }
      ]
    },
    {
      "cell_type": "code",
      "metadata": {
        "id": "4ldPnhV7I6LW",
        "outputId": "5428955c-2bff-45ad-c87a-043013065a45",
        "colab": {
          "base_uri": "https://localhost:8080/"
        }
      },
      "source": [
        "# comandos min e max\n",
        "min(list_rand)"
      ],
      "execution_count": 31,
      "outputs": [
        {
          "output_type": "execute_result",
          "data": {
            "text/plain": [
              "3"
            ]
          },
          "metadata": {},
          "execution_count": 31
        }
      ]
    },
    {
      "cell_type": "code",
      "metadata": {
        "id": "frfnhB_fJFm-",
        "outputId": "ece3d34b-9eb5-49f4-e73c-0a0e24a32e2b",
        "colab": {
          "base_uri": "https://localhost:8080/"
        }
      },
      "source": [
        "max(list_rand)"
      ],
      "execution_count": 32,
      "outputs": [
        {
          "output_type": "execute_result",
          "data": {
            "text/plain": [
              "88"
            ]
          },
          "metadata": {},
          "execution_count": 32
        }
      ]
    },
    {
      "cell_type": "markdown",
      "metadata": {
        "id": "8a_6drjnJHnM"
      },
      "source": [
        "### List Comprehension (Compreensão de Lista)"
      ]
    },
    {
      "cell_type": "code",
      "metadata": {
        "id": "PCRtRa44J6rz"
      },
      "source": [
        "acao = 'MGLU3'"
      ],
      "execution_count": 33,
      "outputs": []
    },
    {
      "cell_type": "code",
      "metadata": {
        "id": "qZ06qAROJ-CA",
        "outputId": "4461b5e7-2eb2-489d-c422-76065a4c7168",
        "colab": {
          "base_uri": "https://localhost:8080/"
        }
      },
      "source": [
        "for caractere in acao:\n",
        "  print(caractere)"
      ],
      "execution_count": 34,
      "outputs": [
        {
          "output_type": "stream",
          "name": "stdout",
          "text": [
            "M\n",
            "G\n",
            "L\n",
            "U\n",
            "3\n"
          ]
        }
      ]
    },
    {
      "cell_type": "code",
      "metadata": {
        "id": "OusjZGHAKB22"
      },
      "source": [
        "lista_caractere = []"
      ],
      "execution_count": 35,
      "outputs": []
    },
    {
      "cell_type": "code",
      "metadata": {
        "id": "v1HhJRD7KF-t"
      },
      "source": [
        "for caractere in acao:\n",
        "  lista_caractere.append(caractere)"
      ],
      "execution_count": 36,
      "outputs": []
    },
    {
      "cell_type": "code",
      "metadata": {
        "id": "8247WR1fKRLn",
        "outputId": "390275d5-4d22-4df1-fa21-71b00569e833",
        "colab": {
          "base_uri": "https://localhost:8080/",
          "height": 36
        }
      },
      "source": [
        "lista_caractere[1]"
      ],
      "execution_count": 37,
      "outputs": [
        {
          "output_type": "execute_result",
          "data": {
            "application/vnd.google.colaboratory.intrinsic+json": {
              "type": "string"
            },
            "text/plain": [
              "'G'"
            ]
          },
          "metadata": {},
          "execution_count": 37
        }
      ]
    },
    {
      "cell_type": "code",
      "metadata": {
        "id": "aBl6UCISKTez",
        "outputId": "9fd6411b-57ab-433f-935d-b3f89c8dd9af",
        "colab": {
          "base_uri": "https://localhost:8080/"
        }
      },
      "source": [
        "[caractere for caractere in acao]"
      ],
      "execution_count": 38,
      "outputs": [
        {
          "output_type": "execute_result",
          "data": {
            "text/plain": [
              "['M', 'G', 'L', 'U', '3']"
            ]
          },
          "metadata": {},
          "execution_count": 38
        }
      ]
    },
    {
      "cell_type": "code",
      "metadata": {
        "id": "9rG6_i0bKh92"
      },
      "source": [
        ""
      ],
      "execution_count": null,
      "outputs": []
    }
  ]
}