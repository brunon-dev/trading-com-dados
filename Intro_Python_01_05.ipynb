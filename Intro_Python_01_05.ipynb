{
  "nbformat": 4,
  "nbformat_minor": 0,
  "metadata": {
    "colab": {
      "name": "Intro-Python-01.05.ipynb",
      "provenance": [],
      "authorship_tag": "ABX9TyPK00nd/1zxCbflfaDgyYWI",
      "include_colab_link": true
    },
    "kernelspec": {
      "name": "python3",
      "display_name": "Python 3"
    },
    "language_info": {
      "name": "python"
    }
  },
  "cells": [
    {
      "cell_type": "markdown",
      "metadata": {
        "id": "view-in-github",
        "colab_type": "text"
      },
      "source": [
        "<a href=\"https://colab.research.google.com/github/brunonbn/trading-com-dados/blob/main/Intro_Python_01_05.ipynb\" target=\"_parent\"><img src=\"https://colab.research.google.com/assets/colab-badge.svg\" alt=\"Open In Colab\"/></a>"
      ]
    },
    {
      "cell_type": "markdown",
      "metadata": {
        "id": "HAQhYL28Lo-w"
      },
      "source": [
        "## Instala a bibilioteca do Yahoo Finance"
      ]
    },
    {
      "cell_type": "code",
      "metadata": {
        "colab": {
          "base_uri": "https://localhost:8080/"
        },
        "id": "J2dNC8qpL4nv",
        "outputId": "5a8f1b56-8686-4290-e695-54ddee616f6a"
      },
      "source": [
        "pip install yfinance"
      ],
      "execution_count": 6,
      "outputs": [
        {
          "output_type": "stream",
          "name": "stdout",
          "text": [
            "Requirement already satisfied: yfinance in /usr/local/lib/python3.7/dist-packages (0.1.67)\n",
            "Requirement already satisfied: requests>=2.20 in /usr/local/lib/python3.7/dist-packages (from yfinance) (2.23.0)\n",
            "Requirement already satisfied: pandas>=0.24 in /usr/local/lib/python3.7/dist-packages (from yfinance) (1.1.5)\n",
            "Requirement already satisfied: numpy>=1.15 in /usr/local/lib/python3.7/dist-packages (from yfinance) (1.19.5)\n",
            "Requirement already satisfied: lxml>=4.5.1 in /usr/local/lib/python3.7/dist-packages (from yfinance) (4.6.4)\n",
            "Requirement already satisfied: multitasking>=0.0.7 in /usr/local/lib/python3.7/dist-packages (from yfinance) (0.0.10)\n",
            "Requirement already satisfied: pytz>=2017.2 in /usr/local/lib/python3.7/dist-packages (from pandas>=0.24->yfinance) (2018.9)\n",
            "Requirement already satisfied: python-dateutil>=2.7.3 in /usr/local/lib/python3.7/dist-packages (from pandas>=0.24->yfinance) (2.8.2)\n",
            "Requirement already satisfied: six>=1.5 in /usr/local/lib/python3.7/dist-packages (from python-dateutil>=2.7.3->pandas>=0.24->yfinance) (1.15.0)\n",
            "Requirement already satisfied: idna<3,>=2.5 in /usr/local/lib/python3.7/dist-packages (from requests>=2.20->yfinance) (2.10)\n",
            "Requirement already satisfied: certifi>=2017.4.17 in /usr/local/lib/python3.7/dist-packages (from requests>=2.20->yfinance) (2021.10.8)\n",
            "Requirement already satisfied: chardet<4,>=3.0.2 in /usr/local/lib/python3.7/dist-packages (from requests>=2.20->yfinance) (3.0.4)\n",
            "Requirement already satisfied: urllib3!=1.25.0,!=1.25.1,<1.26,>=1.21.1 in /usr/local/lib/python3.7/dist-packages (from requests>=2.20->yfinance) (1.24.3)\n"
          ]
        }
      ]
    },
    {
      "cell_type": "markdown",
      "metadata": {
        "id": "BKdivNn3MLs_"
      },
      "source": [
        "## Importa a Yahoo Finance e a Pandas"
      ]
    },
    {
      "cell_type": "code",
      "metadata": {
        "id": "TZ8CiaLYLh4k"
      },
      "source": [
        "import yfinance as yf\n",
        "import pandas as pd"
      ],
      "execution_count": 7,
      "outputs": []
    },
    {
      "cell_type": "code",
      "metadata": {
        "colab": {
          "base_uri": "https://localhost:8080/"
        },
        "id": "08SsdgGyMPny",
        "outputId": "85e90852-6097-40c1-f00d-b91fcbc84502"
      },
      "source": [
        "dados = yf.download('MGLU3.SA', start='2020-01-01', end='2021-07-01')"
      ],
      "execution_count": 8,
      "outputs": [
        {
          "output_type": "stream",
          "name": "stdout",
          "text": [
            "\r[*********************100%***********************]  1 of 1 completed\n"
          ]
        }
      ]
    },
    {
      "cell_type": "code",
      "metadata": {
        "colab": {
          "base_uri": "https://localhost:8080/",
          "height": 237
        },
        "id": "a2CLakydMjZD",
        "outputId": "2b8658a6-aae4-48f9-e33b-c0abd05be2fb"
      },
      "source": [
        "# \"Adj Close\" é fechamento ajustado (adjustmeted close) - considera pagamento de dividendo, split, etc.\n",
        "dados.head()"
      ],
      "execution_count": 10,
      "outputs": [
        {
          "output_type": "execute_result",
          "data": {
            "text/html": [
              "<div>\n",
              "<style scoped>\n",
              "    .dataframe tbody tr th:only-of-type {\n",
              "        vertical-align: middle;\n",
              "    }\n",
              "\n",
              "    .dataframe tbody tr th {\n",
              "        vertical-align: top;\n",
              "    }\n",
              "\n",
              "    .dataframe thead th {\n",
              "        text-align: right;\n",
              "    }\n",
              "</style>\n",
              "<table border=\"1\" class=\"dataframe\">\n",
              "  <thead>\n",
              "    <tr style=\"text-align: right;\">\n",
              "      <th></th>\n",
              "      <th>Open</th>\n",
              "      <th>High</th>\n",
              "      <th>Low</th>\n",
              "      <th>Close</th>\n",
              "      <th>Adj Close</th>\n",
              "      <th>Volume</th>\n",
              "    </tr>\n",
              "    <tr>\n",
              "      <th>Date</th>\n",
              "      <th></th>\n",
              "      <th></th>\n",
              "      <th></th>\n",
              "      <th></th>\n",
              "      <th></th>\n",
              "      <th></th>\n",
              "    </tr>\n",
              "  </thead>\n",
              "  <tbody>\n",
              "    <tr>\n",
              "      <th>2020-01-02</th>\n",
              "      <td>12.075</td>\n",
              "      <td>12.3325</td>\n",
              "      <td>11.9275</td>\n",
              "      <td>12.3325</td>\n",
              "      <td>12.029736</td>\n",
              "      <td>29600800</td>\n",
              "    </tr>\n",
              "    <tr>\n",
              "      <th>2020-01-03</th>\n",
              "      <td>12.125</td>\n",
              "      <td>12.3325</td>\n",
              "      <td>12.0750</td>\n",
              "      <td>12.2225</td>\n",
              "      <td>11.922436</td>\n",
              "      <td>26737600</td>\n",
              "    </tr>\n",
              "    <tr>\n",
              "      <th>2020-01-06</th>\n",
              "      <td>12.100</td>\n",
              "      <td>12.3275</td>\n",
              "      <td>11.9500</td>\n",
              "      <td>12.2325</td>\n",
              "      <td>11.932189</td>\n",
              "      <td>27359200</td>\n",
              "    </tr>\n",
              "    <tr>\n",
              "      <th>2020-01-07</th>\n",
              "      <td>12.235</td>\n",
              "      <td>12.3000</td>\n",
              "      <td>12.1250</td>\n",
              "      <td>12.1975</td>\n",
              "      <td>11.898049</td>\n",
              "      <td>26818800</td>\n",
              "    </tr>\n",
              "    <tr>\n",
              "      <th>2020-01-08</th>\n",
              "      <td>12.155</td>\n",
              "      <td>12.5875</td>\n",
              "      <td>12.1250</td>\n",
              "      <td>12.5725</td>\n",
              "      <td>12.263844</td>\n",
              "      <td>40007200</td>\n",
              "    </tr>\n",
              "  </tbody>\n",
              "</table>\n",
              "</div>"
            ],
            "text/plain": [
              "              Open     High      Low    Close  Adj Close    Volume\n",
              "Date                                                              \n",
              "2020-01-02  12.075  12.3325  11.9275  12.3325  12.029736  29600800\n",
              "2020-01-03  12.125  12.3325  12.0750  12.2225  11.922436  26737600\n",
              "2020-01-06  12.100  12.3275  11.9500  12.2325  11.932189  27359200\n",
              "2020-01-07  12.235  12.3000  12.1250  12.1975  11.898049  26818800\n",
              "2020-01-08  12.155  12.5875  12.1250  12.5725  12.263844  40007200"
            ]
          },
          "metadata": {},
          "execution_count": 10
        }
      ]
    },
    {
      "cell_type": "code",
      "metadata": {
        "id": "Cic06bRNMlnN"
      },
      "source": [
        "lista_ativos = ['PETR4.SA', 'WEGE3.SA', 'MGLU3.SA', 'LREN3.SA', 'RENT3.SA', 'VALE3.SA']"
      ],
      "execution_count": 11,
      "outputs": []
    },
    {
      "cell_type": "code",
      "metadata": {
        "colab": {
          "base_uri": "https://localhost:8080/"
        },
        "id": "MhFmbrFyOZrh",
        "outputId": "060083ea-e2f3-4a73-d990-192ad4a87144"
      },
      "source": [
        "for acoes in lista_ativos:\n",
        "  print(acoes)"
      ],
      "execution_count": 12,
      "outputs": [
        {
          "output_type": "stream",
          "name": "stdout",
          "text": [
            "PETR4.SA\n",
            "WEGE3.SA\n",
            "MGLU3.SA\n",
            "LREN3.SA\n",
            "RENT3.SA\n",
            "VALE3.SA\n"
          ]
        }
      ]
    },
    {
      "cell_type": "code",
      "metadata": {
        "id": "Vzun2zNSPdud"
      },
      "source": [
        "df = pd.DataFrame()"
      ],
      "execution_count": 13,
      "outputs": []
    },
    {
      "cell_type": "code",
      "metadata": {
        "colab": {
          "base_uri": "https://localhost:8080/"
        },
        "id": "UaAdyPI4OejS",
        "outputId": "4f7cdfc7-ee8d-4994-a9b4-f0ca860145f5"
      },
      "source": [
        "for acoes in lista_ativos:\n",
        "  df[acoes] = yf.download(acoes, start='2020-01-01', end='2021-07-01')['Adj Close']"
      ],
      "execution_count": 14,
      "outputs": [
        {
          "output_type": "stream",
          "name": "stdout",
          "text": [
            "[*********************100%***********************]  1 of 1 completed\n",
            "[*********************100%***********************]  1 of 1 completed\n",
            "[*********************100%***********************]  1 of 1 completed\n",
            "[*********************100%***********************]  1 of 1 completed\n",
            "[*********************100%***********************]  1 of 1 completed\n",
            "[*********************100%***********************]  1 of 1 completed\n"
          ]
        }
      ]
    },
    {
      "cell_type": "code",
      "metadata": {
        "colab": {
          "base_uri": "https://localhost:8080/",
          "height": 237
        },
        "id": "sE5i8IVZPjfU",
        "outputId": "a38afaae-d1b7-4ac5-d6ba-78d82a68f1ff"
      },
      "source": [
        "df.head()"
      ],
      "execution_count": 15,
      "outputs": [
        {
          "output_type": "execute_result",
          "data": {
            "text/html": [
              "<div>\n",
              "<style scoped>\n",
              "    .dataframe tbody tr th:only-of-type {\n",
              "        vertical-align: middle;\n",
              "    }\n",
              "\n",
              "    .dataframe tbody tr th {\n",
              "        vertical-align: top;\n",
              "    }\n",
              "\n",
              "    .dataframe thead th {\n",
              "        text-align: right;\n",
              "    }\n",
              "</style>\n",
              "<table border=\"1\" class=\"dataframe\">\n",
              "  <thead>\n",
              "    <tr style=\"text-align: right;\">\n",
              "      <th></th>\n",
              "      <th>PETR4.SA</th>\n",
              "      <th>WEGE3.SA</th>\n",
              "      <th>MGLU3.SA</th>\n",
              "      <th>LREN3.SA</th>\n",
              "      <th>RENT3.SA</th>\n",
              "      <th>VALE3.SA</th>\n",
              "    </tr>\n",
              "    <tr>\n",
              "      <th>Date</th>\n",
              "      <th></th>\n",
              "      <th></th>\n",
              "      <th></th>\n",
              "      <th></th>\n",
              "      <th></th>\n",
              "      <th></th>\n",
              "    </tr>\n",
              "  </thead>\n",
              "  <tbody>\n",
              "    <tr>\n",
              "      <th>2020-01-02</th>\n",
              "      <td>28.028816</td>\n",
              "      <td>17.296629</td>\n",
              "      <td>12.029735</td>\n",
              "      <td>55.507210</td>\n",
              "      <td>48.985142</td>\n",
              "      <td>44.330605</td>\n",
              "    </tr>\n",
              "    <tr>\n",
              "      <th>2020-01-03</th>\n",
              "      <td>27.800568</td>\n",
              "      <td>17.075758</td>\n",
              "      <td>11.922435</td>\n",
              "      <td>55.121071</td>\n",
              "      <td>48.274353</td>\n",
              "      <td>44.004223</td>\n",
              "    </tr>\n",
              "    <tr>\n",
              "      <th>2020-01-06</th>\n",
              "      <td>28.129242</td>\n",
              "      <td>17.119936</td>\n",
              "      <td>11.932189</td>\n",
              "      <td>55.072811</td>\n",
              "      <td>47.711639</td>\n",
              "      <td>43.743122</td>\n",
              "    </tr>\n",
              "    <tr>\n",
              "      <th>2020-01-07</th>\n",
              "      <td>28.019686</td>\n",
              "      <td>17.252457</td>\n",
              "      <td>11.898048</td>\n",
              "      <td>55.043850</td>\n",
              "      <td>48.175629</td>\n",
              "      <td>44.061337</td>\n",
              "    </tr>\n",
              "    <tr>\n",
              "      <th>2020-01-08</th>\n",
              "      <td>27.846214</td>\n",
              "      <td>16.599661</td>\n",
              "      <td>12.263842</td>\n",
              "      <td>55.401024</td>\n",
              "      <td>47.938702</td>\n",
              "      <td>44.069500</td>\n",
              "    </tr>\n",
              "  </tbody>\n",
              "</table>\n",
              "</div>"
            ],
            "text/plain": [
              "             PETR4.SA   WEGE3.SA   MGLU3.SA   LREN3.SA   RENT3.SA   VALE3.SA\n",
              "Date                                                                        \n",
              "2020-01-02  28.028816  17.296629  12.029735  55.507210  48.985142  44.330605\n",
              "2020-01-03  27.800568  17.075758  11.922435  55.121071  48.274353  44.004223\n",
              "2020-01-06  28.129242  17.119936  11.932189  55.072811  47.711639  43.743122\n",
              "2020-01-07  28.019686  17.252457  11.898048  55.043850  48.175629  44.061337\n",
              "2020-01-08  27.846214  16.599661  12.263842  55.401024  47.938702  44.069500"
            ]
          },
          "metadata": {},
          "execution_count": 15
        }
      ]
    },
    {
      "cell_type": "code",
      "metadata": {
        "colab": {
          "base_uri": "https://localhost:8080/",
          "height": 295
        },
        "id": "rUd7ssF9PlUK",
        "outputId": "354e000b-5b42-4003-ade0-d88e5ea3b192"
      },
      "source": [
        "df.plot()"
      ],
      "execution_count": 16,
      "outputs": [
        {
          "output_type": "execute_result",
          "data": {
            "text/plain": [
              "<matplotlib.axes._subplots.AxesSubplot at 0x7f0b4b791390>"
            ]
          },
          "metadata": {},
          "execution_count": 16
        },
        {
          "output_type": "display_data",
          "data": {
            "image/png": "[encoded data removed]",
            "text/plain": [
              "<Figure size 432x288 with 1 Axes>"
            ]
          },
          "metadata": {
            "needs_background": "light"
          }
        }
      ]
    },
    {
      "cell_type": "markdown",
      "metadata": {
        "id": "BX9k-kwBP1f3"
      },
      "source": [
        "## Estrutura de repetição While"
      ]
    },
    {
      "cell_type": "code",
      "metadata": {
        "id": "gHfVcGo1YRsB"
      },
      "source": [
        "investimento_unitario = 0\n",
        "investimento_total = 0"
      ],
      "execution_count": 17,
      "outputs": []
    },
    {
      "cell_type": "code",
      "metadata": {
        "colab": {
          "base_uri": "https://localhost:8080/"
        },
        "id": "HQ2fjzRmYWkD",
        "outputId": "b5598f77-a121-4e7c-98bb-9ed6e8fe4257"
      },
      "source": [
        "while investimento_total < 10000:\n",
        "  investimento_unitario = int(input('Digite o valor investido na operação: '))\n",
        "  investimento_total = investimento_total + investimento_unitario\n",
        "else:\n",
        "  print('Limite total previsto para investir foi atingido!')\n",
        "  print('Você excedeu ', investimento_total - 10000, ' do valor previsto')\n",
        "\n",
        "print('Você investiu o total de R$', investimento_total)"
      ],
      "execution_count": 19,
      "outputs": [
        {
          "output_type": "stream",
          "name": "stdout",
          "text": [
            "Digite o valor investido na operação: 5000\n",
            "Digite o valor investido na operação: 3000\n",
            "Digite o valor investido na operação: 4000\n",
            "Limite total previsto para investir foi atingido!\n",
            "Você excedeu  2000  do valor previsto\n",
            "Você investiu o total de R$ 12000\n"
          ]
        }
      ]
    },
    {
      "cell_type": "code",
      "metadata": {
        "id": "Defb3qFzYiLY"
      },
      "source": [
        ""
      ],
      "execution_count": null,
      "outputs": []
    }
  ]
}